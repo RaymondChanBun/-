{
 "cells": [
  {
   "cell_type": "code",
   "execution_count": 4,
   "metadata": {
    "collapsed": false
   },
   "outputs": [
    {
     "ename": "SyntaxError",
     "evalue": "invalid syntax (<ipython-input-4-95b4e8d5adea>, line 2)",
     "output_type": "error",
     "traceback": [
      "\u001b[0;36m  File \u001b[0;32m\"<ipython-input-4-95b4e8d5adea>\"\u001b[0;36m, line \u001b[0;32m2\u001b[0m\n\u001b[0;31m    2.1数据类型概述\u001b[0m\n\u001b[0m            ^\u001b[0m\n\u001b[0;31mSyntaxError\u001b[0m\u001b[0;31m:\u001b[0m invalid syntax\n"
     ]
    }
   ],
   "source": [
    ",,,\n",
    "2.1数据类型概述\n",
    "Python 标准数据类型：Numbers数字（整型、浮点型、复数）、String字符串、List列表、Tuple元组、Dict字典\n",
    ",,,"
   ]
  },
  {
   "cell_type": "code",
   "execution_count": 7,
   "metadata": {
    "collapsed": false
   },
   "outputs": [
    {
     "name": "stdout",
     "output_type": "stream",
     "text": [
      "10 10.0\n",
      "<class 'int'> <class 'float'>\n"
     ]
    }
   ],
   "source": [
    "#Number数字分为：int整数，float浮点数\n",
    "x1 = 10\n",
    "x2 = 10.0\n",
    "print(x1,x2)\n",
    "print(type(x1),type(x2))\n",
    "#print()\n",
    "#type()"
   ]
  },
  {
   "cell_type": "code",
   "execution_count": 11,
   "metadata": {
    "collapsed": false
   },
   "outputs": [
    {
     "name": "stdout",
     "output_type": "stream",
     "text": [
      "hello world hell a\n",
      "a\n",
      "b\n",
      "c\n",
      "<class 'str'> <class 'str'> <class 'str'>\n"
     ]
    }
   ],
   "source": [
    "#字符串String 单个标点‘’、双引号\"\"、三引号'''内容'''表示可以换行,不可变\n",
    "x3 = 'hello world'\n",
    "x4 = \"hell\"\n",
    "x5 = '''a\n",
    "a\n",
    "b\n",
    "c'''\n",
    "print(x3,x4,x5)\n",
    "print(type(x3),type(x4),type(x5))"
   ]
  },
  {
   "cell_type": "code",
   "execution_count": 14,
   "metadata": {
    "collapsed": false
   },
   "outputs": [
    {
     "name": "stdout",
     "output_type": "stream",
     "text": [
      "True\n",
      "True\n"
     ]
    },
    {
     "data": {
      "text/plain": [
       "False"
      ]
     },
     "execution_count": 14,
     "metadata": {},
     "output_type": "execute_result"
    }
   ],
   "source": [
    "#bool布尔型\n",
    "\n",
    "a = True\n",
    "b = False\n",
    "print(a == 1)\n",
    "print(b == 0)\n",
    "2>3\n",
    "3<1#只会显示最后一个（注意！！！）"
   ]
  },
  {
   "cell_type": "code",
   "execution_count": 19,
   "metadata": {
    "collapsed": false
   },
   "outputs": [
    {
     "name": "stdout",
     "output_type": "stream",
     "text": [
      "[1, 2, 3, 4, 5] <class 'list'>\n",
      "5 <class 'str'>\n"
     ]
    }
   ],
   "source": [
    "#列表List\n",
    "lst = [1,2,3,4,5]\n",
    "print(lst,type(lst))\n",
    "lst2 = [1,2,5,'hello',[1,2,3]]\n",
    "print(lst2[2],type(lst2[3]))"
   ]
  },
  {
   "cell_type": "code",
   "execution_count": 23,
   "metadata": {
    "collapsed": false
   },
   "outputs": [
    {
     "name": "stdout",
     "output_type": "stream",
     "text": [
      "[8, 2, 3, 4, 5]\n",
      "(1, 2, 3, 4, 5)\n"
     ]
    }
   ],
   "source": [
    "#元组:不可修改，\n",
    "#理解为：不可变的列表\n",
    "tup = (1,2,3,4,5)\n",
    "lst = [1,2,3,4,5]\n",
    "lst[0] = 8\n",
    "print(lst)\n",
    "#tup[0] = 8  元组不支持修改\n",
    "print(tup)"
   ]
  },
  {
   "cell_type": "code",
   "execution_count": 27,
   "metadata": {
    "collapsed": false
   },
   "outputs": [
    {
     "name": "stdout",
     "output_type": "stream",
     "text": [
      "{'b': 'hello', 'a': 100} <class 'dict'>\n"
     ]
    }
   ],
   "source": [
    "#字典dict\n",
    "#dict 由大括号{}标识，由索引（key）和它对应得value组成，无序对象\n",
    "dic = {'a':100,'b':'hello'}\n",
    "print(dic,type(dic))"
   ]
  },
  {
   "cell_type": "code",
   "execution_count": 34,
   "metadata": {
    "collapsed": false
   },
   "outputs": [
    {
     "name": "stdout",
     "output_type": "stream",
     "text": [
      "<class 'int'>\n",
      "10.0 <class 'float'>\n",
      "10 <class 'str'>\n",
      "10\n"
     ]
    }
   ],
   "source": [
    "#数据类型的转换方法\n",
    "#这里暂时只针对int，float,str三者，list、tuple、dict后面讲\n",
    "var1 = 10\n",
    "print(type(var1))\n",
    "var2 = float(var1)\n",
    "print(var2,type(var2))\n",
    "\n",
    "\n",
    "var3 = str(var1)\n",
    "print(var3,type(var3))\n",
    "\n",
    "var4 = 10.765#不会四舍五入，还是10\n",
    "print(int(var4))"
   ]
  }
 ],
 "metadata": {
  "kernelspec": {
   "display_name": "Python [default]",
   "language": "python",
   "name": "python3"
  },
  "language_info": {
   "codemirror_mode": {
    "name": "ipython",
    "version": 3
   },
   "file_extension": ".py",
   "mimetype": "text/x-python",
   "name": "python",
   "nbconvert_exporter": "python",
   "pygments_lexer": "ipython3",
   "version": "3.5.2"
  }
 },
 "nbformat": 4,
 "nbformat_minor": 1
}
