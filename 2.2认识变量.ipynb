{
 "cells": [
  {
   "cell_type": "code",
   "execution_count": 2,
   "metadata": {
    "collapsed": false
   },
   "outputs": [
    {
     "data": {
      "text/plain": [
       "'\\n2.2 认识变量\\n\\n什么是变量？——方程式“=”左边的就是变量\\n1、给变量赋值及创建该变量，并且同时赋予该变量\\n①变量名\\n②变量类型\\n等于= 用来给变量赋值\\n2、变量的命名规则\\n①变量名第一个字符必须是字母（大小写均可）或下划线（“_”），不能是数字开头\\n②变量名不能和常用功能性名字重合，例如print、if、for\\n③不要有空格\\n\\n\\n'"
      ]
     },
     "execution_count": 2,
     "metadata": {},
     "output_type": "execute_result"
    }
   ],
   "source": [
    "'''\n",
    "2.2 认识变量\n",
    "\n",
    "什么是变量？——方程式“=”左边的就是变量\n",
    "1、给变量赋值及创建该变量，并且同时赋予该变量\n",
    "①变量名\n",
    "②变量类型\n",
    "等于= 用来给变量赋值\n",
    "2、变量的命名规则\n",
    "①变量名第一个字符必须是字母（大小写均可）或下划线（“_”），不能是数字开头\n",
    "②变量名不能和常用功能性名字重合，例如print、if、for\n",
    "③不要有空格\n",
    "\n",
    "\n",
    "'''"
   ]
  },
  {
   "cell_type": "code",
   "execution_count": 4,
   "metadata": {
    "collapsed": false
   },
   "outputs": [
    {
     "name": "stdout",
     "output_type": "stream",
     "text": [
      "1 10.0 jack\n"
     ]
    }
   ],
   "source": [
    "#单变量的赋值\n",
    "a = 1\n",
    "b =10.0\n",
    "name = 'jack'\n",
    "print(a,b,name)"
   ]
  },
  {
   "cell_type": "code",
   "execution_count": 6,
   "metadata": {
    "collapsed": false
   },
   "outputs": [
    {
     "name": "stdout",
     "output_type": "stream",
     "text": [
      "1 1 hello\n"
     ]
    }
   ],
   "source": [
    "#多变量的赋值\n",
    "a = b = c = 1\n",
    "d , e , f =1 , 2 , 'hello'\n",
    "print(a,b,f)"
   ]
  },
  {
   "cell_type": "code",
   "execution_count": 8,
   "metadata": {
    "collapsed": false
   },
   "outputs": [
    {
     "name": "stdout",
     "output_type": "stream",
     "text": [
      "1 10.0 jack\n",
      "10\n",
      "20\n"
     ]
    }
   ],
   "source": [
    "#动态变量的赋值\n",
    "a = 1\n",
    "b = 10.0\n",
    "name = 'jack'\n",
    "print(a,b,name)\n",
    "var1 = 10\n",
    "print(var1)\n",
    "var2 = 20\n",
    "print(var2)"
   ]
  }
 ],
 "metadata": {
  "kernelspec": {
   "display_name": "Python [default]",
   "language": "python",
   "name": "python3"
  },
  "language_info": {
   "codemirror_mode": {
    "name": "ipython",
    "version": 3
   },
   "file_extension": ".py",
   "mimetype": "text/x-python",
   "name": "python",
   "nbconvert_exporter": "python",
   "pygments_lexer": "ipython3",
   "version": "3.5.2"
  }
 },
 "nbformat": 4,
 "nbformat_minor": 1
}
