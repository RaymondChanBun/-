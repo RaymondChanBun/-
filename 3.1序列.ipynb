{
 "cells": [
  {
   "cell_type": "code",
   "execution_count": 1,
   "metadata": {
    "collapsed": true
   },
   "outputs": [],
   "source": [
    "  #序列是python的最基本的数据结构\n",
    "    #序列分为可变序列和不可变序列\n",
    "    #可变序列：列表\n",
    "    #不可变序列：元组tuple和字符串str\n",
    "    #生成器 ：range"
   ]
  },
  {
   "cell_type": "code",
   "execution_count": 3,
   "metadata": {
    "collapsed": false
   },
   "outputs": [
    {
     "name": "stdout",
     "output_type": "stream",
     "text": [
      "True\n",
      "True\n",
      "False\n"
     ]
    }
   ],
   "source": [
    "#判断值是否属于序列\n",
    "lst = [1,2,3,4,5,67,8]\n",
    "a , b , c = 1,2.0,'hello'\n",
    "print(a in lst)\n",
    "print(b in lst)\n",
    "print(c in lst)"
   ]
  },
  {
   "cell_type": "code",
   "execution_count": 6,
   "metadata": {
    "collapsed": false
   },
   "outputs": [
    {
     "name": "stdout",
     "output_type": "stream",
     "text": [
      "[1, 2, 3, 'a', 'b']\n",
      "[1, 2, 3, 1, 2, 3, 1, 2, 3] [1, 2, 3, 4, 5, 67, 8, 1, 2, 3, 4, 5, 67, 8]\n"
     ]
    }
   ],
   "source": [
    "#序列链接与重复\n",
    "lst1 = [1,2,3]\n",
    "lst2 = ['a','b']\n",
    "print(lst1 + lst2)\n",
    "print(lst1*3,lst*2)"
   ]
  },
  {
   "cell_type": "code",
   "execution_count": 10,
   "metadata": {
    "collapsed": false
   },
   "outputs": [
    {
     "name": "stdout",
     "output_type": "stream",
     "text": [
      "[1, 2, 3, 4, 5, 67, 8]\n",
      "8\n",
      "5\n"
     ]
    }
   ],
   "source": [
    "#下标索引\n",
    "print(lst)\n",
    "print(lst[-1])#最后一个值\n",
    "print(lst[-3])#倒数第三个值"
   ]
  },
  {
   "cell_type": "code",
   "execution_count": 14,
   "metadata": {
    "collapsed": false
   },
   "outputs": [
    {
     "name": "stdout",
     "output_type": "stream",
     "text": [
      "[1, 2]\n",
      "[1, 2, 3, 4, 5]\n",
      "[3, 4, 5, 67, 8]\n",
      "[2, 3, 4, 5, 67]\n"
     ]
    }
   ],
   "source": [
    "#切片\n",
    "\n",
    "print(lst[0:2])#注意：切片可以理解为列表的取值区间，左闭右开的区间\n",
    "print(lst[:5])\n",
    "print(lst[2:])\n",
    "print(lst[1:-1])"
   ]
  },
  {
   "cell_type": "code",
   "execution_count": 20,
   "metadata": {
    "collapsed": false
   },
   "outputs": [
    {
     "name": "stdout",
     "output_type": "stream",
     "text": [
      "abcdefghijk\n",
      "ceg\n",
      "df\n",
      "acegik\n",
      "bdfhj\n"
     ]
    }
   ],
   "source": [
    "#步长\n",
    "lst = 'abcdefghijk'\n",
    "print(lst)\n",
    "print(lst[2:7:2])#ceg\n",
    "print(lst[3:6:2])#df\n",
    "print(lst[::2])#acegik\n",
    "print(lst[1::2])#bdfhj"
   ]
  },
  {
   "cell_type": "code",
   "execution_count": 28,
   "metadata": {
    "collapsed": false
   },
   "outputs": [
    {
     "name": "stdout",
     "output_type": "stream",
     "text": [
      "9\n",
      "9 1 45\n",
      "0\n",
      "6\n"
     ]
    }
   ],
   "source": [
    "#序列的基本内置全局函数\n",
    "lst = (1,2,3,4,5,6,7,8,9)\n",
    "print(len(lst))#求长度\n",
    "print(max(lst),min(lst),sum(lst))\n",
    "print(lst.index(1))#求值的索引是多少,返回列表中找到某个值的第一个匹配项的索引值\n",
    "lst = [1,1,2,3,4,5,6,7,66,6,6,6,6,6]\n",
    "print(lst.count(6))#计算值出现的次数"
   ]
  },
  {
   "cell_type": "code",
   "execution_count": 31,
   "metadata": {
    "collapsed": false
   },
   "outputs": [
    {
     "data": {
      "text/plain": [
       "1"
      ]
     },
     "execution_count": 31,
     "metadata": {},
     "output_type": "execute_result"
    }
   ],
   "source": [
    "#x = [1,2,3,4,[1],[1,2,3]]  请问x.count(1)是多少\n",
    "x = [1,2,3,4,[1],[1,2,3]]\n",
    "x.count(1)\n"
   ]
  },
  {
   "cell_type": "code",
   "execution_count": 32,
   "metadata": {
    "collapsed": false
   },
   "outputs": [
    {
     "data": {
      "text/plain": [
       "1"
      ]
     },
     "execution_count": 32,
     "metadata": {},
     "output_type": "execute_result"
    }
   ],
   "source": [
    "#x = [1,2,3,4,'1',[1],[1,2,3]]  请问x.count(1)是多少\n",
    "x = [1,2,3,4,'1',[1],[1,2,3]] \n",
    "x.count(1)"
   ]
  }
 ],
 "metadata": {
  "kernelspec": {
   "display_name": "Python [default]",
   "language": "python",
   "name": "python3"
  },
  "language_info": {
   "codemirror_mode": {
    "name": "ipython",
    "version": 3
   },
   "file_extension": ".py",
   "mimetype": "text/x-python",
   "name": "python",
   "nbconvert_exporter": "python",
   "pygments_lexer": "ipython3",
   "version": "3.5.2"
  }
 },
 "nbformat": 4,
 "nbformat_minor": 1
}
