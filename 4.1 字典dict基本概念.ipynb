{
 "cells": [
  {
   "cell_type": "code",
   "execution_count": 2,
   "metadata": {
    "collapsed": false
   },
   "outputs": [
    {
     "data": {
      "text/plain": [
       "'\\n字典是另一种可变容器模型，且可存储任意类型对象\\n字典是每个键值对（key:value）,每个对之间用逗号，分割，整个字典是在{}内\\n键是唯一的，值不是\\n\\n\\n'"
      ]
     },
     "execution_count": 2,
     "metadata": {},
     "output_type": "execute_result"
    }
   ],
   "source": [
    "'''\n",
    "字典是另一种可变容器模型，且可存储任意类型对象\n",
    "字典是每个键值对（key:value）,每个对之间用逗号，分割，整个字典是在{}内\n",
    "键是唯一的，值不是,key必须是字符串，value则可以是任意对象，数值、字符串、序列、字典\n",
    "\n",
    "字典是一个无序集合，序列是有序集合\n",
    "\n",
    "'''"
   ]
  },
  {
   "cell_type": "code",
   "execution_count": 5,
   "metadata": {
    "collapsed": true
   },
   "outputs": [],
   "source": [
    "dic = {'小明':18,'小王':19,'小红':29}\n"
   ]
  },
  {
   "cell_type": "code",
   "execution_count": 7,
   "metadata": {
    "collapsed": false
   },
   "outputs": [
    {
     "name": "stdout",
     "output_type": "stream",
     "text": [
      "{'fha': 39, 'xiaoming': 28, 'xioahog': 1}\n",
      "[0, 1, 2, 3, 4, 5, 6, 7, 8, 9]\n"
     ]
    }
   ],
   "source": [
    "#字典是无序集合，序列由于没有key对应，所以是有序集合\n",
    "dic = {'xiaoming':28,'xioahog':1,'fha':39}\n",
    "lst = list(range(10))\n",
    "print(dic)\n",
    "print(lst)"
   ]
  },
  {
   "cell_type": "code",
   "execution_count": 9,
   "metadata": {
    "collapsed": false
   },
   "outputs": [
    {
     "name": "stdout",
     "output_type": "stream",
     "text": [
      "{'小王': 19, '小陈': 26, '小红': 29, '小明': 18}\n"
     ]
    }
   ],
   "source": [
    "#添加值\n",
    "dic = {'小明':18,'小王':19,'小红':29}\n",
    "dic['小陈']=26\n",
    "print(dic)"
   ]
  },
  {
   "cell_type": "code",
   "execution_count": 11,
   "metadata": {
    "collapsed": false
   },
   "outputs": [
    {
     "name": "stdout",
     "output_type": "stream",
     "text": [
      "{'小王': 19, '小陈': 26, '小红': 29, '小明': 10}\n"
     ]
    }
   ],
   "source": [
    "#修改值\n",
    "dic['小明'] = 10\n",
    "print(dic)"
   ]
  },
  {
   "cell_type": "code",
   "execution_count": 18,
   "metadata": {
    "collapsed": false
   },
   "outputs": [
    {
     "name": "stdout",
     "output_type": "stream",
     "text": [
      "{'小王': 19, '小红': 29}\n",
      "{}\n"
     ]
    }
   ],
   "source": [
    "#删除\n",
    "dic = {'小明':18,'小王':19,'小红':29}\n",
    "del  dic['小明'] #任意删除元素\n",
    "print(dic)\n",
    "\n",
    "dic.clear() #清空字典所有条目\n",
    "print(dic)\n",
    "\n",
    "#del dic  #删除字典\n",
    "\n"
   ]
  },
  {
   "cell_type": "code",
   "execution_count": 23,
   "metadata": {
    "collapsed": false
   },
   "outputs": [
    {
     "name": "stdout",
     "output_type": "stream",
     "text": [
      "{'marry': 19, 'jone': 203, 'jack': 20}\n",
      "{'a': 'fff', 'b': 'fakf'} {'f': 'fafh', 'q': 'c'} {'f': 1, 's': 9}\n"
     ]
    }
   ],
   "source": [
    "#字典的申明\n",
    "\n",
    "dic = {'var1':100,'var2':200}\n",
    "\n",
    "#\n",
    "dic = dict(jack =20,marry = 19,jone = 203)\n",
    "print(dic)\n",
    "\n",
    "#用列表申明字典  非常重要！！！用于爬数据、先以列表形式存储再变成字典\n",
    "#列表——复合序列\n",
    "list1 = [('a','fff'),('b','fakf')]\n",
    "list2 = [['q','c'],['f','fafh']]\n",
    "list3 = (('f',1),('s',9))\n",
    "dic1 = dict(list1)\n",
    "dic2 = dict(list2)\n",
    "dic3 = dict(list3)\n",
    "print(dic1,dic2,dic3)"
   ]
  },
  {
   "cell_type": "code",
   "execution_count": 25,
   "metadata": {
    "collapsed": false
   },
   "outputs": [
    {
     "name": "stdout",
     "output_type": "stream",
     "text": [
      "{'a': None, 'v': None, 'f': None} {'a': 0, 'v': 0, 'f': 0}\n"
     ]
    }
   ],
   "source": [
    "keys = ['a','v','f']\n",
    "dics1 = dict.fromkeys(keys) #直接生成一个空字典\n",
    "dics2 = dict.fromkeys(keys,0)#直接生成一个值都为0的字典\n",
    "print(dics1,dics2)"
   ]
  }
 ],
 "metadata": {
  "kernelspec": {
   "display_name": "Python [default]",
   "language": "python",
   "name": "python3"
  },
  "language_info": {
   "codemirror_mode": {
    "name": "ipython",
    "version": 3
   },
   "file_extension": ".py",
   "mimetype": "text/x-python",
   "name": "python",
   "nbconvert_exporter": "python",
   "pygments_lexer": "ipython3",
   "version": "3.5.2"
  }
 },
 "nbformat": 4,
 "nbformat_minor": 1
}
