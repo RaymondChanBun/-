{
 "cells": [
  {
   "cell_type": "code",
   "execution_count": 2,
   "metadata": {
    "collapsed": false
   },
   "outputs": [
    {
     "name": "stdout",
     "output_type": "stream",
     "text": [
      "{'xiaoming': 100, 'xiaohua': 90, 'b': 2, 'a': 1} {'xiaoming': 100, 'xiaohua': 90}\n"
     ]
    }
   ],
   "source": [
    "#字典的合并\n",
    "#dic1.update(dic2) 合并一个字典，把第二个字典合并到第一个字典中，改变第一个字典\n",
    "dic1 = {'a':1,'b':2}\n",
    "dic2 = {'xiaoming':100,'xiaohua':90}\n",
    "dic1.update(dic2)\n",
    "print(dic1,dic2)\n",
    "\n"
   ]
  },
  {
   "cell_type": "code",
   "execution_count": 6,
   "metadata": {
    "collapsed": false
   },
   "outputs": [
    {
     "name": "stdout",
     "output_type": "stream",
     "text": [
      "{'b': 2, 'a': 100} {'b': 2, 'a': 100}\n",
      "{'z': 100, 'a': 1} {'z': 100, 'a': 999}\n"
     ]
    }
   ],
   "source": [
    "#copy()生成一个新的字典\n",
    "#赋值  则两个字典指向同一个值，值发生变化，两个字典都会发生变化\n",
    "\n",
    "dic1 = {'a':1,'b':2}\n",
    "dic2 = dic1\n",
    "dic1['a'] = 100\n",
    "print(dic2,dic1)\n",
    "\n",
    "#使用copy()生成一个新的字典\n",
    "dic1 = {'a':1,'z':100}\n",
    "dic2 = dic1.copy()\n",
    "dic1['a'] = 999\n",
    "print(dic2,dic1)"
   ]
  },
  {
   "cell_type": "code",
   "execution_count": 8,
   "metadata": {
    "collapsed": false
   },
   "outputs": [
    {
     "name": "stdout",
     "output_type": "stream",
     "text": [
      "字典的长度 2\n"
     ]
    }
   ],
   "source": [
    "#求字典的长度\n",
    "print('字典的长度',len(dic2))"
   ]
  },
  {
   "cell_type": "code",
   "execution_count": 12,
   "metadata": {
    "collapsed": false
   },
   "outputs": [
    {
     "name": "stdout",
     "output_type": "stream",
     "text": [
      "True\n"
     ]
    }
   ],
   "source": [
    "#判断是否包含用key值，而不是value值\n",
    "dic1 = {'a':1,'b':10}\n",
    "print('a' in dic1)"
   ]
  },
  {
   "cell_type": "code",
   "execution_count": 20,
   "metadata": {
    "collapsed": false
   },
   "outputs": [
    {
     "name": "stdout",
     "output_type": "stream",
     "text": [
      "a\n",
      "b\n",
      "1\n"
     ]
    }
   ],
   "source": [
    "#列表字典——非常重要！！！！\n",
    "data = [{'name':'a','age':20},{'name':'b','age':29},{'name':'1','age':2}]\n",
    "\n",
    "for i in data:\n",
    "    print(i['name'])"
   ]
  }
 ],
 "metadata": {
  "anaconda-cloud": {},
  "kernelspec": {
   "display_name": "Python [default]",
   "language": "python",
   "name": "python3"
  },
  "language_info": {
   "codemirror_mode": {
    "name": "ipython",
    "version": 3
   },
   "file_extension": ".py",
   "mimetype": "text/x-python",
   "name": "python",
   "nbconvert_exporter": "python",
   "pygments_lexer": "ipython3",
   "version": "3.5.2"
  }
 },
 "nbformat": 4,
 "nbformat_minor": 1
}
