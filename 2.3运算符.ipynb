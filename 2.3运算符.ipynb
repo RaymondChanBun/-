{
 "cells": [
  {
   "cell_type": "code",
   "execution_count": 1,
   "metadata": {
    "collapsed": false
   },
   "outputs": [
    {
     "data": {
      "text/plain": [
       "'\\n几次方\\n**幂\\n\\n'"
      ]
     },
     "execution_count": 1,
     "metadata": {},
     "output_type": "execute_result"
    }
   ],
   "source": [
    "#运算符:算术运算符、比较运算符、逻辑运算符、成员运算符\n",
    "'''\n",
    "几次方\n",
    "**幂\n",
    "// 取整除数\n",
    "'''"
   ]
  },
  {
   "cell_type": "code",
   "execution_count": 4,
   "metadata": {
    "collapsed": false
   },
   "outputs": [
    {
     "name": "stdout",
     "output_type": "stream",
     "text": [
      "2的3次方的值为： 8\n"
     ]
    }
   ],
   "source": [
    "a , b = 2 , 3\n",
    "c = a**b\n",
    "print('2的3次方的值为：', c)"
   ]
  },
  {
   "cell_type": "code",
   "execution_count": 6,
   "metadata": {
    "collapsed": false
   },
   "outputs": [
    {
     "name": "stdout",
     "output_type": "stream",
     "text": [
      "10除4的整除数为： 2\n"
     ]
    }
   ],
   "source": [
    "a , b =10 , 4\n",
    "c = a//b\n",
    "print('10除4的整除数为：', c)\n"
   ]
  },
  {
   "cell_type": "code",
   "execution_count": 2,
   "metadata": {
    "collapsed": false
   },
   "outputs": [
    {
     "name": "stdout",
     "output_type": "stream",
     "text": [
      "False\n",
      "True\n",
      "False\n"
     ]
    }
   ],
   "source": [
    "#逻辑运算符\n",
    "#bool()函数：将值转换为布尔型，其中只有以下情况bool()返回False:0,0.0,None,'',[],{}\n",
    "print(True and False)#and :且\n",
    "print(True or False)  # or:或\n",
    "print(not True) #not: 非\n"
   ]
  },
  {
   "cell_type": "code",
   "execution_count": 4,
   "metadata": {
    "collapsed": false
   },
   "outputs": [
    {
     "name": "stdout",
     "output_type": "stream",
     "text": [
      "True\n",
      "True\n",
      "False\n"
     ]
    }
   ],
   "source": [
    "#成员运算符： in /  not in 列表、元组、字典存在成员运算符\n",
    "lst = [1,2,34,4]\n",
    "dic={'a':1,'b':2}\n",
    "print(1 in lst)\n",
    "print('d' not in dic)\n",
    "\n",
    "#字符串不包含成员运算符\n",
    "st = 'abfv'\n",
    "print('h' in st)"
   ]
  }
 ],
 "metadata": {
  "anaconda-cloud": {},
  "kernelspec": {
   "display_name": "Python [default]",
   "language": "python",
   "name": "python3"
  },
  "language_info": {
   "codemirror_mode": {
    "name": "ipython",
    "version": 3
   },
   "file_extension": ".py",
   "mimetype": "text/x-python",
   "name": "python",
   "nbconvert_exporter": "python",
   "pygments_lexer": "ipython3",
   "version": "3.5.2"
  }
 },
 "nbformat": 4,
 "nbformat_minor": 1
}
