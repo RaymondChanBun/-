{
 "cells": [
  {
   "cell_type": "code",
   "execution_count": 1,
   "metadata": {
    "collapsed": false
   },
   "outputs": [
    {
     "data": {
      "text/plain": [
       "'\\n文本序列str\\n一、不可变序列\\n\\n'"
      ]
     },
     "execution_count": 1,
     "metadata": {},
     "output_type": "execute_result"
    }
   ],
   "source": [
    "'''\n",
    "文本序列str\n",
    "一、不可变序列\n",
    "\n",
    "'''"
   ]
  },
  {
   "cell_type": "code",
   "execution_count": 3,
   "metadata": {
    "collapsed": false
   },
   "outputs": [
    {
     "name": "stdout",
     "output_type": "stream",
     "text": [
      "andf\n",
      "aflaf\n",
      "af\"af\"\n"
     ]
    }
   ],
   "source": [
    "#字符串引号\n",
    "#可以单引号、双引号，两者无区别\n",
    "#可以单引号中嵌套双引号，也可以双引号中嵌套单引号\n",
    "#需要多行字符使用三引号(可以三单引号也可以三双引号‘''''''\n",
    "a = 'andf'\n",
    "b = \"aflaf\"\n",
    "c = 'af\"af\"'\n",
    "print(a)\n",
    "print(b)\n",
    "print(c)"
   ]
  },
  {
   "cell_type": "code",
   "execution_count": 7,
   "metadata": {
    "collapsed": false
   },
   "outputs": [
    {
     "name": "stdout",
     "output_type": "stream",
     "text": [
      "a\n",
      "b\n",
      "\\\n",
      "C:/User/chenbin/a\n",
      "C:\\User\\chenbin\\a\n",
      "C:\\User\\chenbin\\a\n"
     ]
    }
   ],
   "source": [
    "#转义字符 \\\n",
    "print(\"a\\nb\")\n",
    "#用于输出替行本身\n",
    "print(\"\\\\\") #输出\\\n",
    "print(\"C:/User/chenbin/a\")\n",
    "print(\"C:\\\\User\\\\chenbin\\\\a\")\n",
    "print(r\"C:\\User\\chenbin\\a\")#去转义字符"
   ]
  },
  {
   "cell_type": "code",
   "execution_count": 9,
   "metadata": {
    "collapsed": false
   },
   "outputs": [
    {
     "name": "stdout",
     "output_type": "stream",
     "text": [
      "True\n",
      "他很帅没错\n",
      "a\n",
      "ac\n",
      "aahf\n",
      "0\n"
     ]
    }
   ],
   "source": [
    "#字符串的通用功能\n",
    "print('a' in 'abf')  #判断是否存在\n",
    "print('他很帅'+'没错') #字符串+字符串   数字+数字  str(数字)+字符串  强制类型转换\n",
    "st = 'acafhafj'\n",
    "print(st[2])\n",
    "print(st[:2])\n",
    "print(st[::2])\n",
    "#索引、切片、步长\n",
    "\n",
    "print(st.index('a'))\n"
   ]
  },
  {
   "cell_type": "code",
   "execution_count": 28,
   "metadata": {
    "collapsed": false
   },
   "outputs": [
    {
     "name": "stdout",
     "output_type": "stream",
     "text": [
      "i'm handsome'\n",
      "i'm fsahf'\n"
     ]
    },
    {
     "data": {
      "text/plain": [
       "'hahahe'"
      ]
     },
     "execution_count": 28,
     "metadata": {},
     "output_type": "execute_result"
    }
   ],
   "source": [
    "#字符串常用功能\n",
    "#修改字符串\n",
    "st = \"i'm handsome'\"\n",
    "st2 = st.replace('handsome','fsahf') #替换字符串，不改变原来的字符串，返回一个新的字符串 str.replace(old,new,count)  count：更换几个\n",
    "print(st)\n",
    "print(st2)\n",
    "st = 'hehehe'\n",
    "st.replace('he','ha',2)"
   ]
  },
  {
   "cell_type": "code",
   "execution_count": 13,
   "metadata": {
    "collapsed": false
   },
   "outputs": [
    {
     "name": "stdout",
     "output_type": "stream",
     "text": [
      "['po01', '116', '3435', '2535.353']\n"
     ]
    }
   ],
   "source": [
    "#拆分字符串 特别重要！！！！！\n",
    "#str.split() 拆分字符串，生成列表\n",
    "st = 'po01,116,3435,2535.353'\n",
    "lst = st.split(',')\n",
    "print(lst)\n"
   ]
  },
  {
   "cell_type": "code",
   "execution_count": 15,
   "metadata": {
    "collapsed": false
   },
   "outputs": [
    {
     "name": "stdout",
     "output_type": "stream",
     "text": [
      "po01-116-3435-2535.353\n"
     ]
    }
   ],
   "source": [
    "#连接字符串，对象为列表\n",
    "lst = ['po01', '116', '3435', '2535.353']\n",
    "m = '-'\n",
    "st2 = m.join(lst)\n",
    "print(st2)"
   ]
  },
  {
   "cell_type": "code",
   "execution_count": 18,
   "metadata": {
    "collapsed": false
   },
   "outputs": [
    {
     "name": "stdout",
     "output_type": "stream",
     "text": [
      "True\n"
     ]
    },
    {
     "data": {
      "text/plain": [
       "False"
      ]
     },
     "execution_count": 18,
     "metadata": {},
     "output_type": "execute_result"
    }
   ],
   "source": [
    "#   str.startswith(\"str\")   判断是否以“str”开头\n",
    "#   str.endswith(\"str\")   判断是否以“str”结尾\n",
    "st = \"afjafj\"\n",
    "print(st.startswith('a'))\n",
    "st.endswith('a')"
   ]
  },
  {
   "cell_type": "code",
   "execution_count": 20,
   "metadata": {
    "collapsed": false
   },
   "outputs": [
    {
     "name": "stdout",
     "output_type": "stream",
     "text": [
      "FAHFKAHUKFLHAKLFHO\n",
      "fahfkahukflhaklfho\n",
      "FAHFKAHUKFLHAKLFHO\n",
      "Fahfkahukflhaklfho\n"
     ]
    }
   ],
   "source": [
    "#大小写互换\n",
    "st = 'fahfkahukflhaklfho'\n",
    "print(st.upper()) #全部大写\n",
    "print(st.lower())#全部小写\n",
    "print(st.swapcase()) #大小写互换\n",
    "print(st.capitalize()) #首字母大写"
   ]
  },
  {
   "cell_type": "code",
   "execution_count": 22,
   "metadata": {
    "collapsed": false
   },
   "outputs": [
    {
     "name": "stdout",
     "output_type": "stream",
     "text": [
      "True\n"
     ]
    }
   ],
   "source": [
    "#字符串是否全为数字\n",
    "#如果字符串全为数字返回True, 否则返回False\n",
    "st = '123456'\n",
    "print(st.isnumeric())\n"
   ]
  },
  {
   "cell_type": "code",
   "execution_count": 24,
   "metadata": {
    "collapsed": false
   },
   "outputs": [
    {
     "name": "stdout",
     "output_type": "stream",
     "text": [
      "True\n"
     ]
    }
   ],
   "source": [
    "#是否都是字母\n",
    "#如果字符串至少有一个字符并且所有字符都是字母则返回True,否则返回False\n",
    "st = 'afjlaafa'\n",
    "print(st.isalpha())\n"
   ]
  },
  {
   "cell_type": "code",
   "execution_count": 27,
   "metadata": {
    "collapsed": false
   },
   "outputs": [
    {
     "name": "stdout",
     "output_type": "stream",
     "text": [
      "afha\n"
     ]
    }
   ],
   "source": [
    "#删除字符串末尾的空格\n",
    "st = 'afha   '\n",
    "print(st.rstrip())"
   ]
  },
  {
   "cell_type": "code",
   "execution_count": 36,
   "metadata": {
    "collapsed": false
   },
   "outputs": [
    {
     "name": "stdout",
     "output_type": "stream",
     "text": [
      "chenbin 是好人\n",
      "a的成绩是 100\n",
      "结果是 1.000000\n",
      "结果是 100 和 1000\n"
     ]
    },
    {
     "ename": "TypeError",
     "evalue": "%i format: a number is required, not list",
     "output_type": "error",
     "traceback": [
      "\u001b[0;31m---------------------------------------------------------------------------\u001b[0m",
      "\u001b[0;31mTypeError\u001b[0m                                 Traceback (most recent call last)",
      "\u001b[0;32m<ipython-input-36-368cba50f5ff>\u001b[0m in \u001b[0;36m<module>\u001b[0;34m()\u001b[0m\n\u001b[1;32m     19\u001b[0m \u001b[1;33m\u001b[0m\u001b[0m\n\u001b[1;32m     20\u001b[0m \u001b[0mprint\u001b[0m\u001b[1;33m(\u001b[0m\u001b[1;34m'结果是 %i 和 %i'\u001b[0m \u001b[1;33m%\u001b[0m\u001b[1;33m(\u001b[0m\u001b[1;36m100\u001b[0m\u001b[1;33m,\u001b[0m\u001b[1;36m1000\u001b[0m\u001b[1;33m)\u001b[0m\u001b[1;33m)\u001b[0m\u001b[1;33m\u001b[0m\u001b[0m\n\u001b[0;32m---> 21\u001b[0;31m \u001b[0mprint\u001b[0m\u001b[1;33m(\u001b[0m\u001b[1;34m'小明哥的成绩是%i，小王的成绩是%i'\u001b[0m \u001b[1;33m%\u001b[0m\u001b[1;33m[\u001b[0m\u001b[1;36m90\u001b[0m\u001b[1;33m,\u001b[0m\u001b[1;36m100\u001b[0m\u001b[1;33m]\u001b[0m\u001b[1;33m)\u001b[0m\u001b[1;33m\u001b[0m\u001b[0m\n\u001b[0m",
      "\u001b[0;31mTypeError\u001b[0m: %i format: a number is required, not list"
     ]
    }
   ],
   "source": [
    "#格式化字符  非常重要！！！！！\n",
    "# 在字符串中插入变量，方便修改\n",
    "name = 'chenbin'\n",
    "st = '%s 是好人' %name\n",
    "print(st)\n",
    "#注意点\n",
    "'''\n",
    "%s 字符串\n",
    "%i 整型\n",
    "%f 浮点型\n",
    "如果有两个格式化字符串，用元组的形式给出\n",
    "'''\n",
    "\n",
    "x = 100\n",
    "y = 1.0\n",
    "print('a的成绩是 %i'%x)\n",
    "print('结果是 %f'%y)\n",
    "\n",
    "\n",
    "print('结果是 %i 和 %i' %(100,1000))\n",
    "print('小明哥的成绩是%i，小王的成绩是%i' %[90,100])"
   ]
  },
  {
   "cell_type": "code",
   "execution_count": 49,
   "metadata": {
    "collapsed": false
   },
   "outputs": [
    {
     "name": "stdout",
     "output_type": "stream",
     "text": [
      "pi is 3.141593\n",
      "pi is 3.14\n",
      "m is 1\n",
      "m is 2\n",
      "结果是 +100\n",
      "结果是 -0.02\n",
      "结果是 100\n",
      "结果是+100\n",
      "结果是 1.23e+02\n",
      " %g在小数位数少时自动识别用浮点数，数据复杂时自动识别用科学计数法\n",
      "结果是 1.23243e+10\n",
      "结果是 1.23\n"
     ]
    },
    {
     "data": {
      "text/plain": [
       "'\\n%.2e  指小数保留2位的科学计数法\\n%.2g  指整数部分保留2位的科学计数法\\n\\n'"
      ]
     },
     "execution_count": 49,
     "metadata": {},
     "output_type": "execute_result"
    }
   ],
   "source": [
    "#格式化字符：数字格式化那些坑\n",
    "\n",
    "m = 3.1415926\n",
    "print(\"pi is %f\" %m)\n",
    "print('pi is %.2f' %m)  #只保留两位小数 %.2f 此处四舍五入\n",
    "\n",
    "m = 1.893472893\n",
    "print('m is %i' %m)  #直接取整数部分，不四舍五入\n",
    "print('m is %.0f' %m) #%.0f 不保留小数部分，进行四舍五入\n",
    "\n",
    "#显示正号用+\n",
    "m = 100\n",
    "print('结果是 %+i' %m)\n",
    "#负号是直接显示的\n",
    "print('结果是 %.2f' %-0.02)\n",
    "\n",
    "#加空格，空格与正号只能显示一个\n",
    "m = 100\n",
    "print('结果是% i' %m)\n",
    "print('结果是% +i' %m)\n",
    "\n",
    "\n",
    "#科学计数法  %e 等同于%E\n",
    "m = 123.23453647252\n",
    "print('结果是 %.2e' %m) \n",
    "\n",
    "#  %g在小数位数少时自动识别用浮点数，数据复杂时自动识别用科学计数法\n",
    "m1 = 12324323523.482365876\n",
    "m2 = 1.23\n",
    "print(' %g在小数位数少时自动识别用浮点数，数据复杂时自动识别用科学计数法')\n",
    "print('结果是 %g' %m1)\n",
    "print('结果是 %g' %m2)\n",
    "\n",
    "\n",
    "'''\n",
    "%.2e  指小数保留2位的科学计数法\n",
    "%.2g  指整数部分保留2位的科学计数法\n",
    "\n",
    "'''"
   ]
  },
  {
   "cell_type": "code",
   "execution_count": 69,
   "metadata": {
    "collapsed": false
   },
   "outputs": [
    {
     "name": "stdout",
     "output_type": "stream",
     "text": [
      "今天天气如何,非常好\n",
      "a,b,c \n",
      " a,a,a,b\n",
      "我的工作是工程师\n",
      "afh{} afhqwe\n",
      "4.134000\n",
      "4.13\n",
      "4.134000e+00\n",
      "4\n",
      "413.400000%\n",
      "10\n",
      "今年产值增长了12.53 %\n",
      "今年产值增长了1243.400000%\n"
     ]
    }
   ],
   "source": [
    "#更强大的format 方法\n",
    "print('今天天气如何{}'.format(',非常好'))\n",
    "\n",
    "\n",
    "# {}和{0}的区别：都是占位符，{0}表示有明确的顺序指定\n",
    "#{}中不写数字时与后面的.format()中的个数保持一致\n",
    "print(\"{},{},{}\".format('a','b','c'),'\\n',\"{0},{0},{0},{1}\".format('a','b','c'))\n",
    "\n",
    "#可以用变量来指示\n",
    "print(\"我的工作是{work}\".format(work='工程师'))\n",
    "\n",
    "# .format()返回一个新的值，原有的不会改变\n",
    "\n",
    "x = \"afh{}\"\n",
    "a = x.format('qwe')\n",
    "print(x,a)\n",
    "\n",
    "print(\"{:f}\".format(4.134))\n",
    "print(\"{:.2f}\".format(4.134))\n",
    "print(\"{:e}\".format(4.134))\n",
    "print(\"{:.0f}\".format(4.134))\n",
    "print(\"{:%}\".format(4.134))\n",
    "print(\"{:d}\".format(10))  # %d 表示代替整数\n",
    "\n",
    "print('今年产值增长了%.2f %%' %12.5345)\n",
    "print('今年产值增长了{:%}'.format(12.434))"
   ]
  },
  {
   "cell_type": "code",
   "execution_count": 71,
   "metadata": {
    "collapsed": false
   },
   "outputs": [
    {
     "name": "stdout",
     "output_type": "stream",
     "text": [
      "\n",
      "fajl\n",
      "fkaf\n",
      "\n",
      "\n"
     ]
    }
   ],
   "source": [
    "#三引号创建一个有几行的文本\n",
    "print('''\n",
    "fajl\n",
    "fkaf\n",
    "\n",
    "''')"
   ]
  },
  {
   "cell_type": "code",
   "execution_count": 75,
   "metadata": {
    "collapsed": false
   },
   "outputs": [
    {
     "name": "stdout",
     "output_type": "stream",
     "text": [
      "3322\n",
      "66\n"
     ]
    }
   ],
   "source": [
    "#33+\"22\"是多少\n",
    "print(str(33) + \"22\")\n",
    "\n",
    "#33 + int(\"33\")\n",
    "print(33 + int(\"33\"))"
   ]
  },
  {
   "cell_type": "code",
   "execution_count": 77,
   "metadata": {
    "collapsed": false
   },
   "outputs": [
    {
     "name": "stdout",
     "output_type": "stream",
     "text": [
      "['12', '34345', '345h', '4234h']\n"
     ]
    }
   ],
   "source": [
    "#split()\n",
    "\n",
    "m = \"12,34345,345h,4234h\"\n",
    "print(m.split(','))"
   ]
  },
  {
   "cell_type": "code",
   "execution_count": 80,
   "metadata": {
    "collapsed": false
   },
   "outputs": [
    {
     "name": "stdout",
     "output_type": "stream",
     "text": [
      "abcnn\n",
      "a245123.000000\n"
     ]
    }
   ],
   "source": [
    "print(\"abc%s\"%\"nn\")\n",
    "print(\"a245%f\"%123)\n"
   ]
  },
  {
   "cell_type": "code",
   "execution_count": 110,
   "metadata": {
    "collapsed": false
   },
   "outputs": [
    {
     "name": "stdout",
     "output_type": "stream",
     "text": [
      "我是hahehehe\n",
      "我的工作是工程师我喜欢...\n"
     ]
    }
   ],
   "source": [
    "# 我的工作...我喜欢... 把... 替换成正确的内容\n",
    "st = '我是...hehehe'\n",
    "st2 = st.replace('...','ha',2)\n",
    "print(st2)\n",
    "\n",
    "st = '我的工作是...我喜欢...'\n",
    "st2 = st.replace(\"...\",'工程师',1)\n",
    "print(st2)"
   ]
  }
 ],
 "metadata": {
  "kernelspec": {
   "display_name": "Python [default]",
   "language": "python",
   "name": "python3"
  },
  "language_info": {
   "codemirror_mode": {
    "name": "ipython",
    "version": 3
   },
   "file_extension": ".py",
   "mimetype": "text/x-python",
   "name": "python",
   "nbconvert_exporter": "python",
   "pygments_lexer": "ipython3",
   "version": "3.5.2"
  }
 },
 "nbformat": 4,
 "nbformat_minor": 1
}
