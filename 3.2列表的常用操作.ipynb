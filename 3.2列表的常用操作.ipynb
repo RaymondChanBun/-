{
 "cells": [
  {
   "cell_type": "code",
   "execution_count": 1,
   "metadata": {
    "collapsed": false
   },
   "outputs": [
    {
     "data": {
      "text/plain": [
       "'\\n列表list常用操作\\n序列是python中最基本的数据结构，它支持字符、数字、字符串甚至是包含列表（即嵌套）\\n列表用[]\\n列表中值的切片\\n加号+ 表示连接 星号* 表示重复操作\\n\\n\\n\\n\\n\\n'"
      ]
     },
     "execution_count": 1,
     "metadata": {},
     "output_type": "execute_result"
    }
   ],
   "source": [
    "'''\n",
    "列表list常用操作\n",
    "序列是python中最基本的数据结构，它支持字符、数字、字符串甚至是包含列表（即嵌套）\n",
    "列表用[]\n",
    "列表中值的切片\n",
    "加号+ 表示连接 星号* 表示重复操作\n",
    "\n",
    "\n",
    "\n",
    "\n",
    "\n",
    "'''"
   ]
  },
  {
   "cell_type": "code",
   "execution_count": 4,
   "metadata": {
    "collapsed": false
   },
   "outputs": [
    {
     "name": "stdout",
     "output_type": "stream",
     "text": [
      "name\n",
      "[1, 2, 3, 1, 2, 3, 1, 2, 3]\n"
     ]
    }
   ],
   "source": [
    "#列表的特征\n",
    "lst1 = [1,2,3,'a','b','c',[1,2,3,['name',1,2,3],4]]\n",
    "# 列表可以包含任意类型的对象：数值、字符串、列表等\n",
    "print(lst1[-1][3][0])\n",
    "\n",
    "lst3 = [1,2,3]\n",
    "lst3 = lst3*3\n",
    "print(lst3)"
   ]
  },
  {
   "cell_type": "code",
   "execution_count": 18,
   "metadata": {
    "collapsed": false
   },
   "outputs": [
    {
     "name": "stdout",
     "output_type": "stream",
     "text": [
      "['小红', '小明', '团支书']\n",
      "['小红', '小明', 'b']\n",
      "['小红', '小明']\n",
      "['小红', '小明', '团支书']\n"
     ]
    }
   ],
   "source": [
    "name = ['小红','小明']\n",
    "print(name + ['团支书'])\n",
    "print(name + ['b'])\n",
    "print(name)\n",
    "name.append('团支书')\n",
    "print(name)"
   ]
  },
  {
   "cell_type": "code",
   "execution_count": 27,
   "metadata": {
    "collapsed": false
   },
   "outputs": [
    {
     "name": "stdout",
     "output_type": "stream",
     "text": [
      "range(0, 10) <class 'range'>\n",
      "[4, 6, 8]\n",
      "range(0, 10)\n"
     ]
    }
   ],
   "source": [
    "#列表与生成器'''\n",
    "'''\n",
    "range()是生成器，指向一个范围\n",
    "range(5)代表指向了0,1,2,3,4这几个值\n",
    "range(2,5)代表指向2,3,4,这里用，不使用：\n",
    "range(0,10,2) 代表指向了0,2,4,6,8\n",
    "'''\n",
    "a = range(10)\n",
    "print(a,type(a))\n",
    "lst = list(range(4,10,2))\n",
    "print(lst)\n",
    "print(range(10))\n"
   ]
  },
  {
   "cell_type": "code",
   "execution_count": 29,
   "metadata": {
    "collapsed": false
   },
   "outputs": [
    {
     "name": "stdout",
     "output_type": "stream",
     "text": [
      "range(0, 10)\n",
      "3\n",
      "4\n"
     ]
    }
   ],
   "source": [
    "m = range(10)\n",
    "print(m)\n",
    "print(m[3])\n",
    "lst = [1,2,3,4,5]\n",
    "print(lst[3])"
   ]
  },
  {
   "cell_type": "code",
   "execution_count": 36,
   "metadata": {
    "collapsed": false
   },
   "outputs": [
    {
     "name": "stdout",
     "output_type": "stream",
     "text": [
      "[0, 1, 2, 3, 4, 5, 6, 7, 8, 9, 1, 2, 3]\n",
      "[0, 1, 2, 3, 4, 5, 6, 7, 8, 9]\n",
      "[0, 1, 2, 3, 4, 5, 6, 7, 8, 9, 'a']\n",
      "[1, 2, 3, [3, 4, 5]]\n",
      "[1, 2, 3, 3, 4, 5]\n"
     ]
    }
   ],
   "source": [
    "'''\n",
    "列表添加元素\n",
    "三种方式：\n",
    "方法一：+\n",
    "方法二：lst.append()\n",
    "方法三：lst.extend()\n",
    "\n",
    "'''\n",
    "lst = list(range(10))\n",
    "print(lst + [1,2,3])\n",
    "print(lst) #lst不变\n",
    "lst.append('a')\n",
    "print(lst)#lst会发生改变\n",
    "\n",
    "a = [1,2,3]\n",
    "b = [3,4,5]\n",
    "a.append(b)\n",
    "print(a)\n",
    "a = [1,2,3]\n",
    "b = [3,4,5]\n",
    "a.extend(b)\n",
    "print(a)"
   ]
  },
  {
   "cell_type": "code",
   "execution_count": 41,
   "metadata": {
    "collapsed": false
   },
   "outputs": [
    {
     "name": "stdout",
     "output_type": "stream",
     "text": [
      "[0, 1, 2, 3, 4, 5, 6, 7, 8, 9]\n",
      "[0, 1, 2, 3, 4, 6, 7, 8, 9]\n",
      "[0, 1, 4, 6, 7, 8, 9]\n",
      "[]\n"
     ]
    }
   ],
   "source": [
    "#可变列表list常用操作——删除元素  \n",
    "'''\n",
    "remove()  删除单个元素，删除首个符合条件的元素，按值删除\n",
    "del  根据索引(元素所在位置)来删除\n",
    "list.pop(索引值) 要移除列表元素的索引值，不能超过列表总长度，默认为 index=-1，删除最后一个列表值\n",
    "\n",
    "'''\n",
    "\n",
    "lst = list(range(10))\n",
    "print(lst)\n",
    "lst.remove(5)#删除列表中值为5的第一个元素，若有两个以上，只删除第一个\n",
    "print(lst)\n",
    "del lst[2:4]\n",
    "print(lst)\n",
    "\n",
    "lst.clear()\n",
    "print(lst)\n"
   ]
  },
  {
   "cell_type": "code",
   "execution_count": 47,
   "metadata": {
    "collapsed": false
   },
   "outputs": [
    {
     "name": "stdout",
     "output_type": "stream",
     "text": [
      "[0, 1, 2, 3, 4, 5, 6, 7, 8, 9]\n",
      "['a', 0, 1, 2, 3, 4, 5, 6, 7, 8, 9]\n",
      "['a', 0, 1, 2, 3, 4, 5, 6, 'hello', 7, 8, 9]\n"
     ]
    }
   ],
   "source": [
    "#可变列表list常用操作——插入元素\n",
    "'''\n",
    "lst.insert(索引值，插入的值)在某个索引写入加入的值\n",
    "\n",
    "'''\n",
    "lst = list(range(10))\n",
    "print(lst)\n",
    "lst.insert(0,'a')\n",
    "print(lst)\n",
    "lst.insert(8,'hello')\n",
    "print(lst)"
   ]
  },
  {
   "cell_type": "code",
   "execution_count": 57,
   "metadata": {
    "collapsed": false
   },
   "outputs": [
    {
     "name": "stdout",
     "output_type": "stream",
     "text": [
      "[0, 1, 2, 3, 4, 5, 6, 7, 8, 9]\n",
      "[0, 1, 2, 3, 4, 5, 6, 7, 8, 9]\n",
      "[0, 1, 2, 100, 4, 5, 6, 7, 8, 9]\n",
      "[0, 1, 2, 100, 4, 5, 6, 7, 8, 9]\n",
      "使用copy函数\n",
      "[0, 1, 2, 3, 4, 5, 6, 7, 8, 9]\n",
      "[0, 1, 2, 3, 4, 5, 6, 7, 8, 9]\n",
      "[0, 1000, 2, 3, 4, 5, 6, 7, 8, 9]\n",
      "[0, 1, 2, 3, 4, 5, 6, 7, 8, 9]\n"
     ]
    }
   ],
   "source": [
    "#可变列表list常用的操作——复制\n",
    "#list.copy()方法：复制一个新的列表，lst1 和 lst2 指向两个列表，\n",
    "#若是赋值，则指向同一索引的同一列表，一个发生变化，另一个也会改变\n",
    "x = list(range(10))\n",
    "m = x\n",
    "print(x)\n",
    "print(m)\n",
    "x[3]=100\n",
    "print(x)\n",
    "print(m)\n",
    "#使用copy函数\n",
    "print('使用copy函数')\n",
    "x = list(range(10))\n",
    "m = x.copy()  \n",
    "print(x)\n",
    "print(m)\n",
    "x[1]=1000\n",
    "print(x)\n",
    "print(m)"
   ]
  },
  {
   "cell_type": "code",
   "execution_count": 63,
   "metadata": {
    "collapsed": false
   },
   "outputs": [
    {
     "name": "stdout",
     "output_type": "stream",
     "text": [
      "[19, 18, 17, 16, 15, 14, 13, 12, 11, 10] ['asd', 'fafh', 'zaf']\n",
      "[2, 1, 45, 1, 345, 5] [1, 1, 2, 5, 45, 345]\n"
     ]
    }
   ],
   "source": [
    "#可变列表list常用操作——排序\n",
    "'''\n",
    "方法一：.sort()\n",
    "方法二：sorted（）从小到大排列,还函数是一个排序并复制的函数\n",
    "\n",
    "'''\n",
    "#sort（）\n",
    "lst1 = list(range(10,20))\n",
    "lst2 = ['asd','zaf','fafh']\n",
    "lst1.sort(reverse=True) #reverse是否反向排列\n",
    "lst2.sort()\n",
    "print(lst1,lst2)\n",
    "# sorted()\n",
    "lst1 =[2,1,45,1,345,5]\n",
    "lst3 = sorted(lst1)\n",
    "print(lst1,lst3)"
   ]
  },
  {
   "cell_type": "code",
   "execution_count": 67,
   "metadata": {
    "collapsed": false
   },
   "outputs": [
    {
     "name": "stdout",
     "output_type": "stream",
     "text": [
      "[2, 3, 4, 5, 6, 7, 1]\n",
      "[2, 3, 4, 5, 6, 7, 1]\n"
     ]
    }
   ],
   "source": [
    "\n",
    "#分别用append和extend()方法给一个序列增加一个元素1\n",
    "lst = [2,3,4,5,6,7]\n",
    "lst.append(1)\n",
    "print(lst)\n",
    "lst = [2,3,4,5,6,7]\n",
    "lst.extend([1])\n",
    "print(lst)"
   ]
  },
  {
   "cell_type": "code",
   "execution_count": 69,
   "metadata": {
    "collapsed": false
   },
   "outputs": [
    {
     "name": "stdout",
     "output_type": "stream",
     "text": [
      "[2, 3, 4, 5, 6, 7, [1, 2, 3]]\n",
      "[2, 3, 4, 5, 6, 7, 1, 2, 3]\n"
     ]
    }
   ],
   "source": [
    "#x.append([1,1,2])和x.extend([1,1,2])的区别\n",
    "lst = [2,3,4,5,6,7]\n",
    "lst.append([1,2,3])\n",
    "print(lst)\n",
    "lst = [2,3,4,5,6,7]\n",
    "lst.extend([1,2,3])\n",
    "print(lst)"
   ]
  },
  {
   "cell_type": "code",
   "execution_count": 73,
   "metadata": {
    "collapsed": false
   },
   "outputs": [
    {
     "name": "stdout",
     "output_type": "stream",
     "text": [
      "[2, 3, 4, 5, 6, 7, 'a']\n",
      "[2, 3, 4, 5, 6, 7, 'a']\n"
     ]
    }
   ],
   "source": [
    "#x.append('a')和x.extend('d')的区别\n",
    "lst = [2,3,4,5,6,7]\n",
    "lst.append('a')\n",
    "print(lst)\n",
    "lst = [2,3,4,5,6,7]\n",
    "lst.extend('a')\n",
    "print(lst)\n"
   ]
  },
  {
   "cell_type": "code",
   "execution_count": 75,
   "metadata": {
    "collapsed": false
   },
   "outputs": [
    {
     "name": "stdout",
     "output_type": "stream",
     "text": [
      "[1, 2, 3, 'abc', 4, 5, 6]\n"
     ]
    }
   ],
   "source": [
    "#创建某一个列表，在列表中间插入一个值\n",
    "lst = [1,2,3,4,5,6]\n",
    "lst.insert(3,'abc')\n",
    "print(lst)"
   ]
  },
  {
   "cell_type": "code",
   "execution_count": 77,
   "metadata": {
    "collapsed": false
   },
   "outputs": [
    {
     "name": "stdout",
     "output_type": "stream",
     "text": [
      "[786, 464, 45, 21, 3, 2, 1]\n",
      "[2, 3, 1, 464, 21, 45, 786]\n",
      "[786, 464, 45, 21, 3, 2, 1]\n"
     ]
    }
   ],
   "source": [
    "#创建一个随机数值列表，按照降序排序\n",
    "lst= [2,3,1,464,21,45,786]\n",
    "lst.sort(reverse=True)\n",
    "print(lst)\n",
    "lst= [2,3,1,464,21,45,786]\n",
    "lst1 =sorted(lst,reverse=True)\n",
    "print(lst)\n",
    "print(lst1)"
   ]
  },
  {
   "cell_type": "code",
   "execution_count": 81,
   "metadata": {
    "collapsed": false
   },
   "outputs": [
    {
     "name": "stdout",
     "output_type": "stream",
     "text": [
      "[32, 63, 12, 45, 89, 77]\n",
      "[32, 45, 12, 45, 89, 77]\n",
      "[32, 45, 63, 12, 89, 77]\n"
     ]
    }
   ],
   "source": [
    "s = [32,45,63,12,45,89,77]\n",
    "s.remove(45)  #删除元素45\n",
    "print(s)\n",
    "s = [32,45,63,12,45,89,77]\n",
    "del s[2] \n",
    "print(s)\n",
    "s = [32,45,63,12,45,89,77]\n",
    "s.pop(4)  #按照索引删除对应得元素\n",
    "print(s)"
   ]
  },
  {
   "cell_type": "code",
   "execution_count": 83,
   "metadata": {
    "collapsed": false
   },
   "outputs": [
    {
     "ename": "IndexError",
     "evalue": "pop index out of range",
     "output_type": "error",
     "traceback": [
      "\u001b[0;31m---------------------------------------------------------------------------\u001b[0m",
      "\u001b[0;31mIndexError\u001b[0m                                Traceback (most recent call last)",
      "\u001b[0;32m<ipython-input-83-3cc442c1cf5f>\u001b[0m in \u001b[0;36m<module>\u001b[0;34m()\u001b[0m\n\u001b[1;32m      4\u001b[0m \u001b[0mm\u001b[0m\u001b[1;33m.\u001b[0m\u001b[0mpop\u001b[0m\u001b[1;33m(\u001b[0m\u001b[1;36m4\u001b[0m\u001b[1;33m)\u001b[0m\u001b[1;33m\u001b[0m\u001b[0m\n\u001b[1;32m      5\u001b[0m \u001b[0mm\u001b[0m\u001b[1;33m.\u001b[0m\u001b[0mpop\u001b[0m\u001b[1;33m(\u001b[0m\u001b[1;36m5\u001b[0m\u001b[1;33m)\u001b[0m\u001b[1;33m\u001b[0m\u001b[0m\n\u001b[0;32m----> 6\u001b[0;31m \u001b[0mm\u001b[0m\u001b[1;33m.\u001b[0m\u001b[0mpop\u001b[0m\u001b[1;33m(\u001b[0m\u001b[1;36m7\u001b[0m\u001b[1;33m)\u001b[0m\u001b[1;33m\u001b[0m\u001b[0m\n\u001b[0m\u001b[1;32m      7\u001b[0m \u001b[0mm\u001b[0m\u001b[1;33m.\u001b[0m\u001b[0mpop\u001b[0m\u001b[1;33m(\u001b[0m\u001b[1;36m8\u001b[0m\u001b[1;33m)\u001b[0m\u001b[1;33m\u001b[0m\u001b[0m\n",
      "\u001b[0;31mIndexError\u001b[0m: pop index out of range"
     ]
    }
   ],
   "source": [
    "#删除所有的1\n",
    "m = [1,2,3,4,1,1,45,1,1]\n",
    "m.pop(0)\n",
    "m.pop(4)\n",
    "m.pop(5)\n",
    "m.pop(7)\n",
    "m.pop(8)\n"
   ]
  }
 ],
 "metadata": {
  "anaconda-cloud": {},
  "kernelspec": {
   "display_name": "Python [default]",
   "language": "python",
   "name": "python3"
  },
  "language_info": {
   "codemirror_mode": {
    "name": "ipython",
    "version": 3
   },
   "file_extension": ".py",
   "mimetype": "text/x-python",
   "name": "python",
   "nbconvert_exporter": "python",
   "pygments_lexer": "ipython3",
   "version": "3.5.2"
  }
 },
 "nbformat": 4,
 "nbformat_minor": 1
}
